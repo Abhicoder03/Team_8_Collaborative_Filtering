{
 "cells": [
  {
   "cell_type": "code",
   "execution_count": 32,
   "id": "843f7548-a06b-4250-a120-8b9a7b3a23f1",
   "metadata": {
    "tags": []
   },
   "outputs": [
    {
     "name": "stdout",
     "output_type": "stream",
     "text": [
      "CSV file has been created at Downloads/Grocery_and_Gourmet_Food_5.csv\n"
     ]
    }
   ],
   "source": [
    "\n",
    "\n",
    "# Load the JSON file\n",
    "json_file_path = 'Downloads/Grocery_and_Gourmet_Food_5.json'\n",
    "df = pd.read_json(json_file_path, lines=True)\n",
    "\n",
    "# Convert the DataFrame to CSV\n",
    "csv_file_path = 'Downloads/Grocery_and_Gourmet_Food_5.csv'\n",
    "df.to_csv(csv_file_path, index=False)\n",
    "\n",
    "print(f'CSV file has been created at {csv_file_path}')"
   ]
  },
  {
   "cell_type": "code",
   "execution_count": 33,
   "id": "02ceadf0-7d90-4b05-9a52-d642dc79aeee",
   "metadata": {
    "tags": []
   },
   "outputs": [
    {
     "name": "stderr",
     "output_type": "stream",
     "text": [
      "/var/folders/vb/7v04222s5mb08qhr_0x7z1zm0000gn/T/ipykernel_94117/3079326951.py:1: DtypeWarning: Columns (9) have mixed types. Specify dtype option on import or set low_memory=False.\n",
      "  b1=pd.read_csv(\"Downloads/Grocery_and_Gourmet_Food_5.csv\")\n"
     ]
    }
   ],
   "source": [
    "b1=pd.read_csv(\"Downloads/Grocery_and_Gourmet_Food_5.csv\")"
   ]
  },
  {
   "cell_type": "code",
   "execution_count": 1,
   "id": "f9e1fcb7-88a5-4462-88a9-d39c92410225",
   "metadata": {
    "tags": []
   },
   "outputs": [
    {
     "name": "stderr",
     "output_type": "stream",
     "text": [
      "/var/folders/vb/7v04222s5mb08qhr_0x7z1zm0000gn/T/ipykernel_96408/795676371.py:2: DtypeWarning: Columns (3,4,5,6,7) have mixed types. Specify dtype option on import or set low_memory=False.\n",
      "  merged_df=pd.read_csv(\"Downloads/review/merged.csv\")\n"
     ]
    }
   ],
   "source": [
    "import pandas as pd\n",
    "merged_df=pd.read_csv(\"Downloads/review/merged.csv\")\n"
   ]
  },
  {
   "cell_type": "code",
   "execution_count": 36,
   "id": "34de040c-0e34-4cb4-9faa-4fcffe25b0c8",
   "metadata": {
    "tags": []
   },
   "outputs": [
    {
     "name": "stdout",
     "output_type": "stream",
     "text": [
      "1134350\n"
     ]
    }
   ],
   "source": [
    "print((b1['image'].isnull()).sum())"
   ]
  },
  {
   "cell_type": "code",
   "execution_count": 37,
   "id": "615e0ae8-7bf6-45e0-869c-4c1f00a2d3af",
   "metadata": {
    "tags": []
   },
   "outputs": [],
   "source": [
    "columns_to_drop = ['verified', 'reviewTime', 'unixReviewTime','image']  \n",
    "b1.drop(columns=columns_to_drop, inplace=True)"
   ]
  },
  {
   "cell_type": "code",
   "execution_count": 38,
   "id": "1307fc81-587b-40ef-a111-a62ca0c196c5",
   "metadata": {
    "tags": []
   },
   "outputs": [],
   "source": [
    "b2=pd.read_csv(\"Downloads/Grocery_and_Gourmet_Food.csv\")"
   ]
  },
  {
   "cell_type": "code",
   "execution_count": 39,
   "id": "466bdb43-9a05-48fd-b204-aa8579eb3cc2",
   "metadata": {
    "tags": []
   },
   "outputs": [],
   "source": [
    "columns_to_drop = ['unixReviewTime']  \n",
    "b2.drop(columns=columns_to_drop, inplace=True)"
   ]
  },
  {
   "cell_type": "code",
   "execution_count": 2,
   "id": "7990d4d0-f97e-4162-92af-8e9f0f7f07fc",
   "metadata": {},
   "outputs": [],
   "source": [
    "merged_df=merged_df.head(10000)"
   ]
  },
  {
   "cell_type": "code",
   "execution_count": 43,
   "id": "6d04c8c0-476f-4094-96c2-996e47695814",
   "metadata": {
    "tags": []
   },
   "outputs": [],
   "source": [
    "merged_df = pd.merge(b1, b2, on=['asin','reviewerID'], how='inner')"
   ]
  },
  {
   "cell_type": "code",
   "execution_count": 44,
   "id": "34c8ed57-7f54-44b8-82af-b7fd0e21f8a7",
   "metadata": {},
   "outputs": [
    {
     "data": {
      "text/html": [
       "<div>\n",
       "<style scoped>\n",
       "    .dataframe tbody tr th:only-of-type {\n",
       "        vertical-align: middle;\n",
       "    }\n",
       "\n",
       "    .dataframe tbody tr th {\n",
       "        vertical-align: top;\n",
       "    }\n",
       "\n",
       "    .dataframe thead th {\n",
       "        text-align: right;\n",
       "    }\n",
       "</style>\n",
       "<table border=\"1\" class=\"dataframe\">\n",
       "  <thead>\n",
       "    <tr style=\"text-align: right;\">\n",
       "      <th></th>\n",
       "      <th>overall</th>\n",
       "      <th>reviewerID</th>\n",
       "      <th>asin</th>\n",
       "      <th>reviewerName</th>\n",
       "      <th>reviewText</th>\n",
       "      <th>summary</th>\n",
       "      <th>vote</th>\n",
       "      <th>style</th>\n",
       "      <th>rating</th>\n",
       "    </tr>\n",
       "  </thead>\n",
       "  <tbody>\n",
       "    <tr>\n",
       "      <th>0</th>\n",
       "      <td>5</td>\n",
       "      <td>A1QVBUH9E1V6I8</td>\n",
       "      <td>4639725183</td>\n",
       "      <td>Jamshed Mathur</td>\n",
       "      <td>No adverse comment.</td>\n",
       "      <td>Five Stars</td>\n",
       "      <td>NaN</td>\n",
       "      <td>NaN</td>\n",
       "      <td>5</td>\n",
       "    </tr>\n",
       "    <tr>\n",
       "      <th>1</th>\n",
       "      <td>5</td>\n",
       "      <td>A3GEOILWLK86XM</td>\n",
       "      <td>4639725183</td>\n",
       "      <td>itsjustme</td>\n",
       "      <td>Gift for college student.</td>\n",
       "      <td>Great product.</td>\n",
       "      <td>NaN</td>\n",
       "      <td>NaN</td>\n",
       "      <td>5</td>\n",
       "    </tr>\n",
       "    <tr>\n",
       "      <th>2</th>\n",
       "      <td>5</td>\n",
       "      <td>A32RD6L701BIGP</td>\n",
       "      <td>4639725183</td>\n",
       "      <td>Krystal Clifton</td>\n",
       "      <td>If you like strong tea, this is for you. It mi...</td>\n",
       "      <td>Strong</td>\n",
       "      <td>NaN</td>\n",
       "      <td>NaN</td>\n",
       "      <td>5</td>\n",
       "    </tr>\n",
       "    <tr>\n",
       "      <th>3</th>\n",
       "      <td>5</td>\n",
       "      <td>A2UY1O1FBGKIE6</td>\n",
       "      <td>4639725183</td>\n",
       "      <td>U. Kane</td>\n",
       "      <td>Love the tea. The flavor is way better than th...</td>\n",
       "      <td>Great tea</td>\n",
       "      <td>NaN</td>\n",
       "      <td>NaN</td>\n",
       "      <td>5</td>\n",
       "    </tr>\n",
       "    <tr>\n",
       "      <th>4</th>\n",
       "      <td>5</td>\n",
       "      <td>A3QHVBQYDV7Z6U</td>\n",
       "      <td>4639725183</td>\n",
       "      <td>The Nana</td>\n",
       "      <td>I have searched everywhere until I browsed Ama...</td>\n",
       "      <td>This is the tea I remembered!</td>\n",
       "      <td>NaN</td>\n",
       "      <td>NaN</td>\n",
       "      <td>5</td>\n",
       "    </tr>\n",
       "    <tr>\n",
       "      <th>...</th>\n",
       "      <td>...</td>\n",
       "      <td>...</td>\n",
       "      <td>...</td>\n",
       "      <td>...</td>\n",
       "      <td>...</td>\n",
       "      <td>...</td>\n",
       "      <td>...</td>\n",
       "      <td>...</td>\n",
       "      <td>...</td>\n",
       "    </tr>\n",
       "    <tr>\n",
       "      <th>473410</th>\n",
       "      <td>5</td>\n",
       "      <td>A36DVRTEHDJKNP</td>\n",
       "      <td>B001H9N9RE</td>\n",
       "      <td>Steve</td>\n",
       "      <td>I was anxious for these to arrive and I believ...</td>\n",
       "      <td>I've had these before and they were delicious....</td>\n",
       "      <td>NaN</td>\n",
       "      <td>{'Size:': ' 8ct Case'}</td>\n",
       "      <td>5</td>\n",
       "    </tr>\n",
       "    <tr>\n",
       "      <th>473411</th>\n",
       "      <td>5</td>\n",
       "      <td>A2GD4BWVEXA4W5</td>\n",
       "      <td>B001H9N9RE</td>\n",
       "      <td>Jim L.</td>\n",
       "      <td>I love the taste. It's dark, fruity, not too t...</td>\n",
       "      <td>Fruity dark chocolate in convenient small pack...</td>\n",
       "      <td>NaN</td>\n",
       "      <td>{'Size:': ' 8ct Case'}</td>\n",
       "      <td>5</td>\n",
       "    </tr>\n",
       "    <tr>\n",
       "      <th>473412</th>\n",
       "      <td>4</td>\n",
       "      <td>A1XD3P2TRHT69E</td>\n",
       "      <td>B001H9N9RE</td>\n",
       "      <td>Amazon Customer</td>\n",
       "      <td>This is a really great vegan chocolate, but I ...</td>\n",
       "      <td>Great Vegan Chocolate!</td>\n",
       "      <td>NaN</td>\n",
       "      <td>{'Size:': ' 8ct Case'}</td>\n",
       "      <td>4</td>\n",
       "    </tr>\n",
       "    <tr>\n",
       "      <th>473413</th>\n",
       "      <td>5</td>\n",
       "      <td>A1WCUF22BXWIJO</td>\n",
       "      <td>B001H9N9RE</td>\n",
       "      <td>John</td>\n",
       "      <td>I order this so much I am certain I have revie...</td>\n",
       "      <td>Excellent Chocolate</td>\n",
       "      <td>NaN</td>\n",
       "      <td>{'Size:': ' 8ct Case'}</td>\n",
       "      <td>5</td>\n",
       "    </tr>\n",
       "    <tr>\n",
       "      <th>473414</th>\n",
       "      <td>5</td>\n",
       "      <td>A2NYK9KWFMJV4Y</td>\n",
       "      <td>B001H9N9RE</td>\n",
       "      <td>Mike Tarrani</td>\n",
       "      <td>I'll get the caveats out of the way first. If ...</td>\n",
       "      <td>Heavenly - with some caveats</td>\n",
       "      <td>NaN</td>\n",
       "      <td>{'Size:': ' 8ct Case'}</td>\n",
       "      <td>5</td>\n",
       "    </tr>\n",
       "  </tbody>\n",
       "</table>\n",
       "<p>473415 rows × 9 columns</p>\n",
       "</div>"
      ],
      "text/plain": [
       "        overall      reviewerID        asin     reviewerName  \\\n",
       "0             5  A1QVBUH9E1V6I8  4639725183   Jamshed Mathur   \n",
       "1             5  A3GEOILWLK86XM  4639725183        itsjustme   \n",
       "2             5  A32RD6L701BIGP  4639725183  Krystal Clifton   \n",
       "3             5  A2UY1O1FBGKIE6  4639725183          U. Kane   \n",
       "4             5  A3QHVBQYDV7Z6U  4639725183         The Nana   \n",
       "...         ...             ...         ...              ...   \n",
       "473410        5  A36DVRTEHDJKNP  B001H9N9RE            Steve   \n",
       "473411        5  A2GD4BWVEXA4W5  B001H9N9RE           Jim L.   \n",
       "473412        4  A1XD3P2TRHT69E  B001H9N9RE  Amazon Customer   \n",
       "473413        5  A1WCUF22BXWIJO  B001H9N9RE             John   \n",
       "473414        5  A2NYK9KWFMJV4Y  B001H9N9RE     Mike Tarrani   \n",
       "\n",
       "                                               reviewText  \\\n",
       "0                                     No adverse comment.   \n",
       "1                               Gift for college student.   \n",
       "2       If you like strong tea, this is for you. It mi...   \n",
       "3       Love the tea. The flavor is way better than th...   \n",
       "4       I have searched everywhere until I browsed Ama...   \n",
       "...                                                   ...   \n",
       "473410  I was anxious for these to arrive and I believ...   \n",
       "473411  I love the taste. It's dark, fruity, not too t...   \n",
       "473412  This is a really great vegan chocolate, but I ...   \n",
       "473413  I order this so much I am certain I have revie...   \n",
       "473414  I'll get the caveats out of the way first. If ...   \n",
       "\n",
       "                                                  summary vote  \\\n",
       "0                                              Five Stars  NaN   \n",
       "1                                          Great product.  NaN   \n",
       "2                                                  Strong  NaN   \n",
       "3                                               Great tea  NaN   \n",
       "4                           This is the tea I remembered!  NaN   \n",
       "...                                                   ...  ...   \n",
       "473410  I've had these before and they were delicious....  NaN   \n",
       "473411  Fruity dark chocolate in convenient small pack...  NaN   \n",
       "473412                             Great Vegan Chocolate!  NaN   \n",
       "473413                                Excellent Chocolate  NaN   \n",
       "473414                       Heavenly - with some caveats  NaN   \n",
       "\n",
       "                         style  rating  \n",
       "0                          NaN       5  \n",
       "1                          NaN       5  \n",
       "2                          NaN       5  \n",
       "3                          NaN       5  \n",
       "4                          NaN       5  \n",
       "...                        ...     ...  \n",
       "473410  {'Size:': ' 8ct Case'}       5  \n",
       "473411  {'Size:': ' 8ct Case'}       5  \n",
       "473412  {'Size:': ' 8ct Case'}       4  \n",
       "473413  {'Size:': ' 8ct Case'}       5  \n",
       "473414  {'Size:': ' 8ct Case'}       5  \n",
       "\n",
       "[473415 rows x 9 columns]"
      ]
     },
     "execution_count": 44,
     "metadata": {},
     "output_type": "execute_result"
    }
   ],
   "source": [
    "merged_df"
   ]
  },
  {
   "cell_type": "code",
   "execution_count": 14,
   "id": "f436631a",
   "metadata": {},
   "outputs": [
    {
     "name": "stdout",
     "output_type": "stream",
     "text": [
      "Collecting scikit-surprise\n",
      "  Downloading scikit-surprise-1.1.3.tar.gz (771 kB)\n",
      "\u001b[2K     \u001b[90m━━━━━━━━━━━━━━━━━━━━━━━━━━━━━━━━━━━━━━━\u001b[0m \u001b[32m772.0/772.0 kB\u001b[0m \u001b[31m1.2 MB/s\u001b[0m eta \u001b[36m0:00:00\u001b[0m00:01\u001b[0m00:01\u001b[0m\n",
      "\u001b[?25h  Preparing metadata (setup.py) ... \u001b[?25ldone\n",
      "\u001b[?25hRequirement already satisfied: joblib>=1.0.0 in ./anaconda3/lib/python3.11/site-packages (from scikit-surprise) (1.2.0)\n",
      "Requirement already satisfied: numpy>=1.17.3 in ./anaconda3/lib/python3.11/site-packages (from scikit-surprise) (1.23.5)\n",
      "Requirement already satisfied: scipy>=1.3.2 in ./anaconda3/lib/python3.11/site-packages (from scikit-surprise) (1.9.3)\n",
      "Building wheels for collected packages: scikit-surprise\n",
      "  Building wheel for scikit-surprise (setup.py) ... \u001b[?25ldone\n",
      "\u001b[?25h  Created wheel for scikit-surprise: filename=scikit_surprise-1.1.3-cp311-cp311-macosx_11_0_arm64.whl size=1091164 sha256=ca5d4c9be66c743aeb0957c3977a3497c67dd9a17225b31a23413e64d24a4b38\n",
      "  Stored in directory: /Users/shyam/Library/Caches/pip/wheels/f4/2b/26/e2a5eae55d3b7688995e66abe7f40473aac6c95ddd8ee174a8\n",
      "Successfully built scikit-surprise\n",
      "\u001b[33mDEPRECATION: torchsde 0.2.5 has a non-standard dependency specifier numpy>=1.19.*; python_version >= \"3.7\". pip 23.3 will enforce this behaviour change. A possible replacement is to upgrade to a newer version of torchsde or contact the author to suggest that they release a version with a conforming dependency specifiers. Discussion can be found at https://github.com/pypa/pip/issues/12063\u001b[0m\u001b[33m\n",
      "\u001b[0mInstalling collected packages: scikit-surprise\n",
      "Successfully installed scikit-surprise-1.1.3\n",
      "Note: you may need to restart the kernel to use updated packages.\n"
     ]
    }
   ],
   "source": [
    "pip install scikit-surprise"
   ]
  },
  {
   "cell_type": "code",
   "execution_count": 3,
   "id": "31160907",
   "metadata": {},
   "outputs": [
    {
     "name": "stdout",
     "output_type": "stream",
     "text": [
      "Computing the msd similarity matrix...\n",
      "Done computing similarity matrix.\n",
      "Computing the msd similarity matrix...\n",
      "Done computing similarity matrix.\n",
      "Computing the msd similarity matrix...\n",
      "Done computing similarity matrix.\n",
      "Computing the msd similarity matrix...\n",
      "Done computing similarity matrix.\n",
      "Computing the msd similarity matrix...\n",
      "Done computing similarity matrix.\n",
      "Evaluating RMSE, MAE of algorithm KNNBasic on 5 split(s).\n",
      "\n",
      "                  Fold 1  Fold 2  Fold 3  Fold 4  Fold 5  Mean    Std     \n",
      "RMSE (testset)    0.9412  0.9947  0.9638  0.9862  0.9484  0.9669  0.0208  \n",
      "MAE (testset)     0.6345  0.6570  0.6522  0.6635  0.6447  0.6504  0.0100  \n",
      "Fit time          0.27    0.25    0.20    0.21    0.19    0.23    0.03    \n",
      "Test time         0.05    0.05    0.05    0.05    0.05    0.05    0.00    \n"
     ]
    },
    {
     "data": {
      "text/plain": [
       "{'test_rmse': array([0.94115778, 0.99471198, 0.96379107, 0.9862443 , 0.94840001]),\n",
       " 'test_mae': array([0.63449988, 0.65697135, 0.65223762, 0.6635346 , 0.64472361]),\n",
       " 'fit_time': (0.26806211471557617,\n",
       "  0.2521836757659912,\n",
       "  0.20455503463745117,\n",
       "  0.2097780704498291,\n",
       "  0.19442105293273926),\n",
       " 'test_time': (0.05286407470703125,\n",
       "  0.04800987243652344,\n",
       "  0.047891855239868164,\n",
       "  0.05050492286682129,\n",
       "  0.052188873291015625)}"
      ]
     },
     "execution_count": 3,
     "metadata": {},
     "output_type": "execute_result"
    }
   ],
   "source": [
    "from surprise import KNNBasic, Dataset, Reader\n",
    "from surprise.model_selection import cross_validate\n",
    "import pandas as pd\n",
    "\n",
    "\n",
    "# Filter out rows with NaN in 'rating' column\n",
    "df_filtered = merged_df.dropna(subset=['rating'])\n",
    "\n",
    "# Define a Reader object. The rating_scale parameter is tuple of the minimum and maximum rating.\n",
    "reader = Reader(rating_scale=(1, 5))\n",
    "\n",
    "# Load the dataset from the DataFrame\n",
    "data = Dataset.load_from_df(df_filtered[['reviewerID', 'asin', 'rating']], reader)\n",
    "\n",
    "# Use KNNBasic algorithm\n",
    "algo = KNNBasic()\n",
    "\n",
    "# Run 5-fold cross-validation and print results\n",
    "cross_validate(algo, data, measures=['RMSE', 'MAE'], cv=5, verbose=True)"
   ]
  },
  {
   "cell_type": "code",
   "execution_count": 4,
   "id": "d708bcc1",
   "metadata": {},
   "outputs": [
    {
     "name": "stdout",
     "output_type": "stream",
     "text": [
      "Evaluating RMSE, MAE of algorithm SVD on 5 split(s).\n",
      "\n",
      "                  Fold 1  Fold 2  Fold 3  Fold 4  Fold 5  Mean    Std     \n",
      "RMSE (testset)    0.9560  0.9843  0.9349  0.9608  0.9494  0.9571  0.0162  \n",
      "MAE (testset)     0.6514  0.6615  0.6356  0.6480  0.6455  0.6484  0.0084  \n",
      "Fit time          0.06    0.05    0.05    0.05    0.05    0.05    0.01    \n",
      "Test time         0.03    0.00    0.00    0.00    0.00    0.01    0.01    \n"
     ]
    },
    {
     "data": {
      "text/plain": [
       "{'test_rmse': array([0.95597617, 0.98429286, 0.93485597, 0.96080533, 0.94936972]),\n",
       " 'test_mae': array([0.65143486, 0.66147411, 0.63563765, 0.64796223, 0.64550946]),\n",
       " 'fit_time': (0.06431984901428223,\n",
       "  0.04784989356994629,\n",
       "  0.04813694953918457,\n",
       "  0.04785299301147461,\n",
       "  0.04812288284301758),\n",
       " 'test_time': (0.02718520164489746,\n",
       "  0.002943277359008789,\n",
       "  0.0029239654541015625,\n",
       "  0.0030341148376464844,\n",
       "  0.0030241012573242188)}"
      ]
     },
     "execution_count": 4,
     "metadata": {},
     "output_type": "execute_result"
    }
   ],
   "source": [
    "from surprise import SVD, Dataset, Reader\n",
    "from surprise.model_selection import cross_validate\n",
    "\n",
    "# Continue using df_filtered and reader from the previous example\n",
    "\n",
    "# Load the dataset from the DataFrame\n",
    "data = Dataset.load_from_df(df_filtered[['reviewerID', 'asin', 'rating']], reader)\n",
    "\n",
    "# Use SVD algorithm\n",
    "algo = SVD()\n",
    "\n",
    "# Run 5-fold cross-validation and print results\n",
    "cross_validate(algo, data, measures=['RMSE', 'MAE'], cv=5, verbose=True)"
   ]
  },
  {
   "cell_type": "code",
   "execution_count": 5,
   "id": "f2e7221a",
   "metadata": {},
   "outputs": [
    {
     "name": "stdout",
     "output_type": "stream",
     "text": [
      "Computing the cosine similarity matrix...\n",
      "Done computing similarity matrix.\n",
      "Similar products for 4639725183: ['B00006FWVX', 'B0000VM9EE', 'B00014HS2S', '4639725043', '5463213682']\n"
     ]
    }
   ],
   "source": [
    "from surprise import KNNBasic, Dataset, Reader\n",
    "from surprise.model_selection import train_test_split\n",
    "import pandas as pd\n",
    "\n",
    "\n",
    "\n",
    "# Define a Reader object. The rating_scale parameter is tuple of the minimum and maximum rating.\n",
    "reader = Reader(rating_scale=(1, 5))\n",
    "\n",
    "# Load the dataset from the DataFrame\n",
    "data = Dataset.load_from_df(merged_df[['reviewerID', 'asin', 'rating']], reader)\n",
    "\n",
    "# Prepare the dataset for training\n",
    "trainset = data.build_full_trainset()\n",
    "\n",
    "# Use KNNBasic for item-based collaborative filtering\n",
    "sim_options = {\n",
    "    'name': 'cosine',\n",
    "    'user_based': False  # Compute similarities between items\n",
    "}\n",
    "algo = KNNBasic(sim_options=sim_options)\n",
    "algo.fit(trainset)\n",
    "\n",
    "def get_similar_products(product_id, k=5):\n",
    "    \"\"\"\n",
    "    This function returns the top k similar products for a given product ID.\n",
    "    \n",
    "    :param product_id: The product ID for which to find similar products\n",
    "    :param k: Number of similar products to return\n",
    "    :return: A list of product IDs for the similar products\n",
    "    \"\"\"\n",
    "    # Convert raw product ID to inner ID\n",
    "    inner_id = algo.trainset.to_inner_iid(product_id)\n",
    "    \n",
    "    # Find the nearest neighbors (i.e., most similar) to the product\n",
    "    neighbors = algo.get_neighbors(inner_id, k=k)\n",
    "    \n",
    "    # Convert inner IDs of the neighbors into raw product IDs\n",
    "    neighbors = (algo.trainset.to_raw_iid(inner_id) for inner_id in neighbors)\n",
    "    \n",
    "    return list(neighbors)\n",
    "\n",
    "# Example usage\n",
    "product_id = '4639725183'  # Example product ID\n",
    "similar_products = get_similar_products(product_id, k=5)\n",
    "print(f\"Similar products for {product_id}: {similar_products}\")"
   ]
  },
  {
   "cell_type": "code",
   "execution_count": 11,
   "id": "5f7551d2",
   "metadata": {},
   "outputs": [
    {
     "name": "stdout",
     "output_type": "stream",
     "text": [
      "Recommended products for user A1QVBUH9E1V6I8: ['B0000W0GP2', 'B00012NHAC', 'B0001BH5YM', 'B0001M0YK8', 'B000216TSE']\n"
     ]
    }
   ],
   "source": [
    "from surprise import SVD, Dataset, Reader\n",
    "from surprise.model_selection import train_test_split\n",
    "import pandas as pd\n",
    "\n",
    "\n",
    "\n",
    "# Define a Reader object. The rating_scale parameter is tuple of the minimum and maximum rating.\n",
    "reader = Reader(rating_scale=(1, 5))\n",
    "\n",
    "# Load the dataset from the DataFrame\n",
    "data = Dataset.load_from_df(merged_df[['reviewerID', 'asin', 'rating']], reader)\n",
    "\n",
    "# Prepare the dataset for training\n",
    "trainset = data.build_full_trainset()\n",
    "\n",
    "# Use SVD algorithm\n",
    "algo = SVD()\n",
    "algo.fit(trainset)\n",
    "\n",
    "def recommend_products_for_user(user_id, k=5):\n",
    "    \"\"\"\n",
    "    Recommend products for a given user based on SVD algorithm predictions.\n",
    "    \n",
    "    :param user_id: The user ID for whom to recommend products\n",
    "    :param k: Number of products to recommend\n",
    "    :return: A list of product IDs recommended for the user\n",
    "    \"\"\"\n",
    "    # Get a list of all product IDs\n",
    "    all_products = trainset.all_items()\n",
    "    all_products = [trainset.to_raw_iid(x) for x in all_products]\n",
    "    \n",
    "    # Predict ratings for all products for the user\n",
    "    predictions = [algo.predict(user_id, iid) for iid in all_products]\n",
    "    \n",
    "    # Sort the predictions based on the estimated rating\n",
    "    predictions.sort(key=lambda x: x.est, reverse=True)\n",
    "    \n",
    "    # Return the top k product IDs\n",
    "    top_k_product_ids = [pred.iid for pred in predictions[:k]]\n",
    "    \n",
    "    return top_k_product_ids\n",
    "\n",
    "# Example usage\n",
    "user_id = 'A1QVBUH9E1V6I8'  # Example user ID\n",
    "recommended_products = recommend_products_for_user(user_id, k=5)\n",
    "print(f\"Recommended products for user {user_id}: {recommended_products}\")"
   ]
  },
  {
   "cell_type": "code",
   "execution_count": 15,
   "id": "938fbb84",
   "metadata": {},
   "outputs": [
    {
     "name": "stdout",
     "output_type": "stream",
     "text": [
      " * Serving Flask app '__main__'\n",
      " * Debug mode: off\n"
     ]
    },
    {
     "name": "stderr",
     "output_type": "stream",
     "text": [
      "WARNING: This is a development server. Do not use it in a production deployment. Use a production WSGI server instead.\n",
      " * Running on http://127.0.0.1:5000\n",
      "Press CTRL+C to quit\n",
      "127.0.0.1 - - [03/Mar/2024 21:14:18] \"GET / HTTP/1.1\" 200 -\n",
      "127.0.0.1 - - [03/Mar/2024 23:26:40] \"GET / HTTP/1.1\" 200 -\n"
     ]
    }
   ],
   "source": [
    "from flask import Flask, render_template, request\n",
    "app = Flask(__name__)\n",
    "\n",
    "@app.route(\"/\")\n",
    "def home():\n",
    "    return \"Hello World\"\n",
    "\n",
    "if __name__ == \"__main__\":\n",
    "    app.run()"
   ]
  },
  {
   "cell_type": "code",
   "execution_count": 6,
   "id": "25ac56d3",
   "metadata": {},
   "outputs": [
    {
     "name": "stdout",
     "output_type": "stream",
     "text": [
      "Computing the msd similarity matrix...\n",
      "Done computing similarity matrix.\n",
      "Average Precision: 1.0\n",
      "Average Recall: 0.01107243853530018\n"
     ]
    }
   ],
   "source": [
    "from collections import defaultdict\n",
    "from surprise import KNNBasic, Dataset, Reader\n",
    "from surprise.model_selection import train_test_split\n",
    "import pandas as pd\n",
    "\n",
    "# Define a Reader object. The rating_scale parameter is tuple of the minimum and maximum rating.\n",
    "reader = Reader(rating_scale=(1, 5))\n",
    "\n",
    "# Load the dataset from the DataFrame\n",
    "data = Dataset.load_from_df(df_filtered[['reviewerID', 'asin', 'rating']], reader)\n",
    "\n",
    "# Split the dataset into the train and test set\n",
    "trainset, testset = train_test_split(data, test_size=0.50)\n",
    "\n",
    "# Use KNNBasic algorithm\n",
    "algo = KNNBasic()\n",
    "algo.fit(trainset)\n",
    "\n",
    "# Predict ratings for all pairs (user, item) that are NOT in the training set.\n",
    "testset = trainset.build_anti_testset()\n",
    "predictions = algo.test(testset)\n",
    "\n",
    "# Function to get top-N recommendations for each user\n",
    "def get_top_n(predictions, n=10):\n",
    "    top_n = defaultdict(list)\n",
    "    for uid, iid, true_r, est, _ in predictions:\n",
    "        top_n[uid].append((iid, est))\n",
    "\n",
    "    for uid, user_ratings in top_n.items():\n",
    "        user_ratings.sort(key=lambda x: x[1], reverse=True)\n",
    "        top_n[uid] = user_ratings[:n]\n",
    "\n",
    "    return top_n\n",
    "\n",
    "top_n = get_top_n(predictions, n=10)\n",
    "\n",
    "# Initialize an empty dictionary for actual interactions\n",
    "actual_interactions = defaultdict(list)\n",
    "\n",
    "# Loop over each entry in the test set\n",
    "for uid, iid, rating in testset:\n",
    "    # Append the item ID to the list of items for the corresponding user ID\n",
    "    actual_interactions[uid].append(iid)\n",
    "\n",
    "# Now, actual_interactions is filled with user-item interactions from the test set\n",
    "\n",
    "# Calculate precision and recall\n",
    "def precision_recall_at_k(predictions, k=3, threshold=5.5):\n",
    "    user_est_true = defaultdict(list)\n",
    "    for uid, _, true_r, est, _ in predictions:\n",
    "        user_est_true[uid].append((est, true_r))\n",
    "\n",
    "    precisions = dict()\n",
    "    recalls = dict()\n",
    "\n",
    "    for uid, user_ratings in user_est_true.items():\n",
    "        user_ratings.sort(key=lambda x: x[0], reverse=True)\n",
    "        n_rel = sum((true_r >= threshold) for (_, true_r) in user_ratings)\n",
    "        n_rec_k = sum((est >= threshold) for (est, _) in user_ratings[:k])\n",
    "        n_rel_and_rec_k = sum(((true_r >= threshold) and (est >= threshold)) for (est, true_r) in user_ratings[:k])\n",
    "\n",
    "        precisions[uid] = n_rel_and_rec_k / n_rec_k if n_rec_k != 0 else 0\n",
    "        recalls[uid] = n_rel_and_rec_k / n_rel if n_rel != 0 else 0\n",
    "\n",
    "    return precisions, recalls\n",
    "\n",
    "precisions, recalls = precision_recall_at_k(predictions, k=3, threshold=4)\n",
    "\n",
    "# Average precision and recall across all users\n",
    "print(f'Average Precision: {sum(prec for prec in precisions.values()) / len(precisions)}')\n",
    "print(f'Average Recall: {sum(rec for rec in recalls.values()) / len(recalls)}')"
   ]
  },
  {
   "cell_type": "code",
   "execution_count": 7,
   "id": "dfc13ed9",
   "metadata": {},
   "outputs": [
    {
     "name": "stdout",
     "output_type": "stream",
     "text": [
      "Average Precision: 1.0\n",
      "Average Recall: 0.36908128451003036\n"
     ]
    }
   ],
   "source": [
    "# Adjust the threshold for relevance\n",
    "threshold = 3.5  # Increase the threshold\n",
    "\n",
    "# Increase N\n",
    "N = 100\n",
    "\n",
    "precisions, recalls = precision_recall_at_k(predictions, k=N, threshold=threshold)\n",
    "\n",
    "# Calculate and print the average precision and recall\n",
    "avg_precision = sum(prec for prec in precisions.values()) / len(precisions)\n",
    "avg_recall = sum(rec for rec in recalls.values()) / len(recalls)\n",
    "print(f'Average Precision: {avg_precision}')\n",
    "print(f'Average Recall: {avg_recall}')"
   ]
  },
  {
   "cell_type": "code",
   "execution_count": null,
   "id": "572e29b5",
   "metadata": {},
   "outputs": [],
   "source": []
  }
 ],
 "metadata": {
  "kernelspec": {
   "display_name": "Python 3 (ipykernel)",
   "language": "python",
   "name": "python3"
  },
  "language_info": {
   "codemirror_mode": {
    "name": "ipython",
    "version": 3
   },
   "file_extension": ".py",
   "mimetype": "text/x-python",
   "name": "python",
   "nbconvert_exporter": "python",
   "pygments_lexer": "ipython3",
   "version": "3.11.3"
  }
 },
 "nbformat": 4,
 "nbformat_minor": 5
}
