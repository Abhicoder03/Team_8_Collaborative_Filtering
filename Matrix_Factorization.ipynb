{
 "cells": [
  {
   "cell_type": "code",
   "execution_count": 1,
   "id": "f40b4fe4",
   "metadata": {},
   "outputs": [],
   "source": [
    "import pandas as pd\n",
    "import numpy as np\n",
    "import matplotlib.pyplot as plt\n",
    "from surprise import accuracy\n",
    "from surprise import Dataset, Reader, SVD\n",
    "from surprise.model_selection import train_test_split"
   ]
  },
  {
   "cell_type": "markdown",
   "id": "9853e01d",
   "metadata": {},
   "source": [
    "# Collaborative filtering based Recommendation system with Matrix factorization\n",
    "\n",
    "## SVD with surprise library\n",
    "\n",
    "### Load files"
   ]
  },
  {
   "cell_type": "code",
   "execution_count": 2,
   "id": "a9cd2990",
   "metadata": {},
   "outputs": [],
   "source": [
    "import gzip\n",
    "import json\n",
    "import pandas as pd\n",
    "\n",
    "with gzip.open(\"Grocery_and_Gourmet_Food_5.json.gz\", \"rt\") as f:\n",
    "    data = []\n",
    "    for line in f:\n",
    "        try:\n",
    "            obj = json.loads(line)\n",
    "            data.append(obj)\n",
    "        except json.JSONDecodeError as e:\n",
    "            print(f\"Error decoding JSON: {e}\")"
   ]
  },
  {
   "cell_type": "code",
   "execution_count": 3,
   "id": "a1882e44",
   "metadata": {},
   "outputs": [
    {
     "data": {
      "text/html": [
       "<div>\n",
       "<style scoped>\n",
       "    .dataframe tbody tr th:only-of-type {\n",
       "        vertical-align: middle;\n",
       "    }\n",
       "\n",
       "    .dataframe tbody tr th {\n",
       "        vertical-align: top;\n",
       "    }\n",
       "\n",
       "    .dataframe thead th {\n",
       "        text-align: right;\n",
       "    }\n",
       "</style>\n",
       "<table border=\"1\" class=\"dataframe\">\n",
       "  <thead>\n",
       "    <tr style=\"text-align: right;\">\n",
       "      <th></th>\n",
       "      <th>overall</th>\n",
       "      <th>verified</th>\n",
       "      <th>reviewTime</th>\n",
       "      <th>reviewerID</th>\n",
       "      <th>asin</th>\n",
       "      <th>reviewerName</th>\n",
       "      <th>reviewText</th>\n",
       "      <th>summary</th>\n",
       "      <th>unixReviewTime</th>\n",
       "      <th>vote</th>\n",
       "      <th>style</th>\n",
       "      <th>image</th>\n",
       "    </tr>\n",
       "  </thead>\n",
       "  <tbody>\n",
       "    <tr>\n",
       "      <th>0</th>\n",
       "      <td>5.0</td>\n",
       "      <td>True</td>\n",
       "      <td>11 19, 2014</td>\n",
       "      <td>A1QVBUH9E1V6I8</td>\n",
       "      <td>4639725183</td>\n",
       "      <td>Jamshed Mathur</td>\n",
       "      <td>No adverse comment.</td>\n",
       "      <td>Five Stars</td>\n",
       "      <td>1416355200</td>\n",
       "      <td>NaN</td>\n",
       "      <td>NaN</td>\n",
       "      <td>NaN</td>\n",
       "    </tr>\n",
       "    <tr>\n",
       "      <th>1</th>\n",
       "      <td>5.0</td>\n",
       "      <td>True</td>\n",
       "      <td>10 13, 2016</td>\n",
       "      <td>A3GEOILWLK86XM</td>\n",
       "      <td>4639725183</td>\n",
       "      <td>itsjustme</td>\n",
       "      <td>Gift for college student.</td>\n",
       "      <td>Great product.</td>\n",
       "      <td>1476316800</td>\n",
       "      <td>NaN</td>\n",
       "      <td>NaN</td>\n",
       "      <td>NaN</td>\n",
       "    </tr>\n",
       "    <tr>\n",
       "      <th>2</th>\n",
       "      <td>5.0</td>\n",
       "      <td>True</td>\n",
       "      <td>11 21, 2015</td>\n",
       "      <td>A32RD6L701BIGP</td>\n",
       "      <td>4639725183</td>\n",
       "      <td>Krystal Clifton</td>\n",
       "      <td>If you like strong tea, this is for you. It mi...</td>\n",
       "      <td>Strong</td>\n",
       "      <td>1448064000</td>\n",
       "      <td>NaN</td>\n",
       "      <td>NaN</td>\n",
       "      <td>NaN</td>\n",
       "    </tr>\n",
       "    <tr>\n",
       "      <th>3</th>\n",
       "      <td>5.0</td>\n",
       "      <td>True</td>\n",
       "      <td>08 12, 2015</td>\n",
       "      <td>A2UY1O1FBGKIE6</td>\n",
       "      <td>4639725183</td>\n",
       "      <td>U. Kane</td>\n",
       "      <td>Love the tea. The flavor is way better than th...</td>\n",
       "      <td>Great tea</td>\n",
       "      <td>1439337600</td>\n",
       "      <td>NaN</td>\n",
       "      <td>NaN</td>\n",
       "      <td>NaN</td>\n",
       "    </tr>\n",
       "    <tr>\n",
       "      <th>4</th>\n",
       "      <td>5.0</td>\n",
       "      <td>True</td>\n",
       "      <td>05 28, 2015</td>\n",
       "      <td>A3QHVBQYDV7Z6U</td>\n",
       "      <td>4639725183</td>\n",
       "      <td>The Nana</td>\n",
       "      <td>I have searched everywhere until I browsed Ama...</td>\n",
       "      <td>This is the tea I remembered!</td>\n",
       "      <td>1432771200</td>\n",
       "      <td>NaN</td>\n",
       "      <td>NaN</td>\n",
       "      <td>NaN</td>\n",
       "    </tr>\n",
       "    <tr>\n",
       "      <th>...</th>\n",
       "      <td>...</td>\n",
       "      <td>...</td>\n",
       "      <td>...</td>\n",
       "      <td>...</td>\n",
       "      <td>...</td>\n",
       "      <td>...</td>\n",
       "      <td>...</td>\n",
       "      <td>...</td>\n",
       "      <td>...</td>\n",
       "      <td>...</td>\n",
       "      <td>...</td>\n",
       "      <td>...</td>\n",
       "    </tr>\n",
       "    <tr>\n",
       "      <th>1143855</th>\n",
       "      <td>5.0</td>\n",
       "      <td>True</td>\n",
       "      <td>09 8, 2017</td>\n",
       "      <td>A223YRQH2Z5T1D</td>\n",
       "      <td>B01HJF6FRA</td>\n",
       "      <td>flint5292</td>\n",
       "      <td>As a new vegan, it is sometimes difficult to r...</td>\n",
       "      <td>As a new vegan, it is sometimes difficult to ...</td>\n",
       "      <td>1504828800</td>\n",
       "      <td>4</td>\n",
       "      <td>NaN</td>\n",
       "      <td>NaN</td>\n",
       "    </tr>\n",
       "    <tr>\n",
       "      <th>1143856</th>\n",
       "      <td>5.0</td>\n",
       "      <td>True</td>\n",
       "      <td>08 4, 2017</td>\n",
       "      <td>A38GDA4TB9EILT</td>\n",
       "      <td>B01HJF6FRA</td>\n",
       "      <td>Moriah Bolyard</td>\n",
       "      <td>The best thing ever is ordering a product you ...</td>\n",
       "      <td>The best thing ever is ordering a product you ...</td>\n",
       "      <td>1501804800</td>\n",
       "      <td>3</td>\n",
       "      <td>NaN</td>\n",
       "      <td>NaN</td>\n",
       "    </tr>\n",
       "    <tr>\n",
       "      <th>1143857</th>\n",
       "      <td>5.0</td>\n",
       "      <td>True</td>\n",
       "      <td>07 4, 2017</td>\n",
       "      <td>A2025PN7HDC5BO</td>\n",
       "      <td>B01HJF6FRA</td>\n",
       "      <td>M.C</td>\n",
       "      <td>I used to love ranch before I became vegan. It...</td>\n",
       "      <td>Just what the vegan ordered!</td>\n",
       "      <td>1499126400</td>\n",
       "      <td>5</td>\n",
       "      <td>NaN</td>\n",
       "      <td>NaN</td>\n",
       "    </tr>\n",
       "    <tr>\n",
       "      <th>1143858</th>\n",
       "      <td>5.0</td>\n",
       "      <td>True</td>\n",
       "      <td>06 7, 2017</td>\n",
       "      <td>A1NY7XWC7EPQOA</td>\n",
       "      <td>B01HJF6FRA</td>\n",
       "      <td>Greensboro</td>\n",
       "      <td>I cannot have dairy nor gluten.  This is as cl...</td>\n",
       "      <td>This is as close to Ranch as I will ever be ab...</td>\n",
       "      <td>1496793600</td>\n",
       "      <td>2</td>\n",
       "      <td>NaN</td>\n",
       "      <td>NaN</td>\n",
       "    </tr>\n",
       "    <tr>\n",
       "      <th>1143859</th>\n",
       "      <td>3.0</td>\n",
       "      <td>True</td>\n",
       "      <td>05 20, 2017</td>\n",
       "      <td>A1P0X9E6F99J4T</td>\n",
       "      <td>B01HJF6FRA</td>\n",
       "      <td>Qoyllor</td>\n",
       "      <td>Needs improvement to make it taste like real r...</td>\n",
       "      <td>So so</td>\n",
       "      <td>1495238400</td>\n",
       "      <td>NaN</td>\n",
       "      <td>NaN</td>\n",
       "      <td>NaN</td>\n",
       "    </tr>\n",
       "  </tbody>\n",
       "</table>\n",
       "<p>1143860 rows × 12 columns</p>\n",
       "</div>"
      ],
      "text/plain": [
       "         overall  verified   reviewTime      reviewerID        asin  \\\n",
       "0            5.0      True  11 19, 2014  A1QVBUH9E1V6I8  4639725183   \n",
       "1            5.0      True  10 13, 2016  A3GEOILWLK86XM  4639725183   \n",
       "2            5.0      True  11 21, 2015  A32RD6L701BIGP  4639725183   \n",
       "3            5.0      True  08 12, 2015  A2UY1O1FBGKIE6  4639725183   \n",
       "4            5.0      True  05 28, 2015  A3QHVBQYDV7Z6U  4639725183   \n",
       "...          ...       ...          ...             ...         ...   \n",
       "1143855      5.0      True   09 8, 2017  A223YRQH2Z5T1D  B01HJF6FRA   \n",
       "1143856      5.0      True   08 4, 2017  A38GDA4TB9EILT  B01HJF6FRA   \n",
       "1143857      5.0      True   07 4, 2017  A2025PN7HDC5BO  B01HJF6FRA   \n",
       "1143858      5.0      True   06 7, 2017  A1NY7XWC7EPQOA  B01HJF6FRA   \n",
       "1143859      3.0      True  05 20, 2017  A1P0X9E6F99J4T  B01HJF6FRA   \n",
       "\n",
       "            reviewerName                                         reviewText  \\\n",
       "0         Jamshed Mathur                                No adverse comment.   \n",
       "1              itsjustme                          Gift for college student.   \n",
       "2        Krystal Clifton  If you like strong tea, this is for you. It mi...   \n",
       "3                U. Kane  Love the tea. The flavor is way better than th...   \n",
       "4               The Nana  I have searched everywhere until I browsed Ama...   \n",
       "...                  ...                                                ...   \n",
       "1143855        flint5292  As a new vegan, it is sometimes difficult to r...   \n",
       "1143856   Moriah Bolyard  The best thing ever is ordering a product you ...   \n",
       "1143857              M.C  I used to love ranch before I became vegan. It...   \n",
       "1143858       Greensboro  I cannot have dairy nor gluten.  This is as cl...   \n",
       "1143859          Qoyllor  Needs improvement to make it taste like real r...   \n",
       "\n",
       "                                                   summary  unixReviewTime  \\\n",
       "0                                               Five Stars      1416355200   \n",
       "1                                           Great product.      1476316800   \n",
       "2                                                   Strong      1448064000   \n",
       "3                                                Great tea      1439337600   \n",
       "4                            This is the tea I remembered!      1432771200   \n",
       "...                                                    ...             ...   \n",
       "1143855   As a new vegan, it is sometimes difficult to ...      1504828800   \n",
       "1143856  The best thing ever is ordering a product you ...      1501804800   \n",
       "1143857                       Just what the vegan ordered!      1499126400   \n",
       "1143858  This is as close to Ranch as I will ever be ab...      1496793600   \n",
       "1143859                                              So so      1495238400   \n",
       "\n",
       "        vote style image  \n",
       "0        NaN   NaN   NaN  \n",
       "1        NaN   NaN   NaN  \n",
       "2        NaN   NaN   NaN  \n",
       "3        NaN   NaN   NaN  \n",
       "4        NaN   NaN   NaN  \n",
       "...      ...   ...   ...  \n",
       "1143855    4   NaN   NaN  \n",
       "1143856    3   NaN   NaN  \n",
       "1143857    5   NaN   NaN  \n",
       "1143858    2   NaN   NaN  \n",
       "1143859  NaN   NaN   NaN  \n",
       "\n",
       "[1143860 rows x 12 columns]"
      ]
     },
     "execution_count": 3,
     "metadata": {},
     "output_type": "execute_result"
    }
   ],
   "source": [
    "reviews = pd.DataFrame(data)\n",
    "reviews"
   ]
  },
  {
   "cell_type": "code",
   "execution_count": 4,
   "id": "040de548",
   "metadata": {},
   "outputs": [
    {
     "data": {
      "text/html": [
       "<div>\n",
       "<style scoped>\n",
       "    .dataframe tbody tr th:only-of-type {\n",
       "        vertical-align: middle;\n",
       "    }\n",
       "\n",
       "    .dataframe tbody tr th {\n",
       "        vertical-align: top;\n",
       "    }\n",
       "\n",
       "    .dataframe thead th {\n",
       "        text-align: right;\n",
       "    }\n",
       "</style>\n",
       "<table border=\"1\" class=\"dataframe\">\n",
       "  <thead>\n",
       "    <tr style=\"text-align: right;\">\n",
       "      <th></th>\n",
       "      <th>rating</th>\n",
       "      <th>userID</th>\n",
       "      <th>productID</th>\n",
       "    </tr>\n",
       "  </thead>\n",
       "  <tbody>\n",
       "    <tr>\n",
       "      <th>0</th>\n",
       "      <td>5.0</td>\n",
       "      <td>A1QVBUH9E1V6I8</td>\n",
       "      <td>4639725183</td>\n",
       "    </tr>\n",
       "    <tr>\n",
       "      <th>1</th>\n",
       "      <td>5.0</td>\n",
       "      <td>A3GEOILWLK86XM</td>\n",
       "      <td>4639725183</td>\n",
       "    </tr>\n",
       "    <tr>\n",
       "      <th>2</th>\n",
       "      <td>5.0</td>\n",
       "      <td>A32RD6L701BIGP</td>\n",
       "      <td>4639725183</td>\n",
       "    </tr>\n",
       "    <tr>\n",
       "      <th>3</th>\n",
       "      <td>5.0</td>\n",
       "      <td>A2UY1O1FBGKIE6</td>\n",
       "      <td>4639725183</td>\n",
       "    </tr>\n",
       "    <tr>\n",
       "      <th>4</th>\n",
       "      <td>5.0</td>\n",
       "      <td>A3QHVBQYDV7Z6U</td>\n",
       "      <td>4639725183</td>\n",
       "    </tr>\n",
       "    <tr>\n",
       "      <th>...</th>\n",
       "      <td>...</td>\n",
       "      <td>...</td>\n",
       "      <td>...</td>\n",
       "    </tr>\n",
       "    <tr>\n",
       "      <th>1143855</th>\n",
       "      <td>5.0</td>\n",
       "      <td>A223YRQH2Z5T1D</td>\n",
       "      <td>B01HJF6FRA</td>\n",
       "    </tr>\n",
       "    <tr>\n",
       "      <th>1143856</th>\n",
       "      <td>5.0</td>\n",
       "      <td>A38GDA4TB9EILT</td>\n",
       "      <td>B01HJF6FRA</td>\n",
       "    </tr>\n",
       "    <tr>\n",
       "      <th>1143857</th>\n",
       "      <td>5.0</td>\n",
       "      <td>A2025PN7HDC5BO</td>\n",
       "      <td>B01HJF6FRA</td>\n",
       "    </tr>\n",
       "    <tr>\n",
       "      <th>1143858</th>\n",
       "      <td>5.0</td>\n",
       "      <td>A1NY7XWC7EPQOA</td>\n",
       "      <td>B01HJF6FRA</td>\n",
       "    </tr>\n",
       "    <tr>\n",
       "      <th>1143859</th>\n",
       "      <td>3.0</td>\n",
       "      <td>A1P0X9E6F99J4T</td>\n",
       "      <td>B01HJF6FRA</td>\n",
       "    </tr>\n",
       "  </tbody>\n",
       "</table>\n",
       "<p>1143860 rows × 3 columns</p>\n",
       "</div>"
      ],
      "text/plain": [
       "         rating          userID   productID\n",
       "0           5.0  A1QVBUH9E1V6I8  4639725183\n",
       "1           5.0  A3GEOILWLK86XM  4639725183\n",
       "2           5.0  A32RD6L701BIGP  4639725183\n",
       "3           5.0  A2UY1O1FBGKIE6  4639725183\n",
       "4           5.0  A3QHVBQYDV7Z6U  4639725183\n",
       "...         ...             ...         ...\n",
       "1143855     5.0  A223YRQH2Z5T1D  B01HJF6FRA\n",
       "1143856     5.0  A38GDA4TB9EILT  B01HJF6FRA\n",
       "1143857     5.0  A2025PN7HDC5BO  B01HJF6FRA\n",
       "1143858     5.0  A1NY7XWC7EPQOA  B01HJF6FRA\n",
       "1143859     3.0  A1P0X9E6F99J4T  B01HJF6FRA\n",
       "\n",
       "[1143860 rows x 3 columns]"
      ]
     },
     "execution_count": 4,
     "metadata": {},
     "output_type": "execute_result"
    }
   ],
   "source": [
    "reviews.rename(columns={'asin': 'productID', 'reviewerID': 'userID', 'overall': 'rating'}, inplace=True)\n",
    "reviews.drop(columns=['verified','reviewTime','reviewerName','reviewText','summary','vote','unixReviewTime','style','image'], inplace=True)\n",
    "reviews"
   ]
  },
  {
   "cell_type": "code",
   "execution_count": 5,
   "id": "194cb468",
   "metadata": {},
   "outputs": [],
   "source": [
    "import pandas as pd\n",
    "\n",
    "file_path = \"Grocery_and_Gourmet_Food.csv\"\n",
    "\n",
    "ratings = pd.read_csv(file_path)"
   ]
  },
  {
   "cell_type": "code",
   "execution_count": 6,
   "id": "f15b9640",
   "metadata": {},
   "outputs": [
    {
     "data": {
      "text/html": [
       "<div>\n",
       "<style scoped>\n",
       "    .dataframe tbody tr th:only-of-type {\n",
       "        vertical-align: middle;\n",
       "    }\n",
       "\n",
       "    .dataframe tbody tr th {\n",
       "        vertical-align: top;\n",
       "    }\n",
       "\n",
       "    .dataframe thead th {\n",
       "        text-align: right;\n",
       "    }\n",
       "</style>\n",
       "<table border=\"1\" class=\"dataframe\">\n",
       "  <thead>\n",
       "    <tr style=\"text-align: right;\">\n",
       "      <th></th>\n",
       "      <th>productID</th>\n",
       "      <th>userID</th>\n",
       "      <th>rating</th>\n",
       "    </tr>\n",
       "  </thead>\n",
       "  <tbody>\n",
       "    <tr>\n",
       "      <th>0</th>\n",
       "      <td>1888861614</td>\n",
       "      <td>A1KPIZOCLB9FZ8</td>\n",
       "      <td>4.0</td>\n",
       "    </tr>\n",
       "    <tr>\n",
       "      <th>1</th>\n",
       "      <td>1888861614</td>\n",
       "      <td>A2W0FA06IYAYQE</td>\n",
       "      <td>4.0</td>\n",
       "    </tr>\n",
       "    <tr>\n",
       "      <th>2</th>\n",
       "      <td>1888861614</td>\n",
       "      <td>A2PTZTCH2QUYBC</td>\n",
       "      <td>5.0</td>\n",
       "    </tr>\n",
       "    <tr>\n",
       "      <th>3</th>\n",
       "      <td>1888861614</td>\n",
       "      <td>A2VNHGJ59N4Z90</td>\n",
       "      <td>4.0</td>\n",
       "    </tr>\n",
       "    <tr>\n",
       "      <th>4</th>\n",
       "      <td>1888861614</td>\n",
       "      <td>ATQL0XOLZNHZ4</td>\n",
       "      <td>1.0</td>\n",
       "    </tr>\n",
       "    <tr>\n",
       "      <th>...</th>\n",
       "      <td>...</td>\n",
       "      <td>...</td>\n",
       "      <td>...</td>\n",
       "    </tr>\n",
       "    <tr>\n",
       "      <th>5074154</th>\n",
       "      <td>B01HJHSVG6</td>\n",
       "      <td>AGOPF2VTEOP57</td>\n",
       "      <td>5.0</td>\n",
       "    </tr>\n",
       "    <tr>\n",
       "      <th>5074155</th>\n",
       "      <td>B01HJHSVG6</td>\n",
       "      <td>A5X5TI4JCH9CN</td>\n",
       "      <td>3.0</td>\n",
       "    </tr>\n",
       "    <tr>\n",
       "      <th>5074156</th>\n",
       "      <td>B01HJHSVG6</td>\n",
       "      <td>A1WMQQLC3TVAFI</td>\n",
       "      <td>4.0</td>\n",
       "    </tr>\n",
       "    <tr>\n",
       "      <th>5074157</th>\n",
       "      <td>B01HJHSVG6</td>\n",
       "      <td>ALVP6JZRTEDY6</td>\n",
       "      <td>5.0</td>\n",
       "    </tr>\n",
       "    <tr>\n",
       "      <th>5074158</th>\n",
       "      <td>B01HJHSVG6</td>\n",
       "      <td>AZFPVUZOVGBYR</td>\n",
       "      <td>5.0</td>\n",
       "    </tr>\n",
       "  </tbody>\n",
       "</table>\n",
       "<p>5074159 rows × 3 columns</p>\n",
       "</div>"
      ],
      "text/plain": [
       "          productID          userID  rating\n",
       "0        1888861614  A1KPIZOCLB9FZ8     4.0\n",
       "1        1888861614  A2W0FA06IYAYQE     4.0\n",
       "2        1888861614  A2PTZTCH2QUYBC     5.0\n",
       "3        1888861614  A2VNHGJ59N4Z90     4.0\n",
       "4        1888861614   ATQL0XOLZNHZ4     1.0\n",
       "...             ...             ...     ...\n",
       "5074154  B01HJHSVG6   AGOPF2VTEOP57     5.0\n",
       "5074155  B01HJHSVG6   A5X5TI4JCH9CN     3.0\n",
       "5074156  B01HJHSVG6  A1WMQQLC3TVAFI     4.0\n",
       "5074157  B01HJHSVG6   ALVP6JZRTEDY6     5.0\n",
       "5074158  B01HJHSVG6   AZFPVUZOVGBYR     5.0\n",
       "\n",
       "[5074159 rows x 3 columns]"
      ]
     },
     "execution_count": 6,
     "metadata": {},
     "output_type": "execute_result"
    }
   ],
   "source": [
    "ratings.rename(columns={'1888861614': 'productID', 'ALP49FBWT4I7V': 'userID', '5.0': 'rating'}, inplace=True)\n",
    "ratings.drop(columns=['1370304000'], inplace=True)\n",
    "ratings"
   ]
  },
  {
   "cell_type": "code",
   "execution_count": 7,
   "id": "0ada59c9",
   "metadata": {},
   "outputs": [
    {
     "data": {
      "text/html": [
       "<div>\n",
       "<style scoped>\n",
       "    .dataframe tbody tr th:only-of-type {\n",
       "        vertical-align: middle;\n",
       "    }\n",
       "\n",
       "    .dataframe tbody tr th {\n",
       "        vertical-align: top;\n",
       "    }\n",
       "\n",
       "    .dataframe thead th {\n",
       "        text-align: right;\n",
       "    }\n",
       "</style>\n",
       "<table border=\"1\" class=\"dataframe\">\n",
       "  <thead>\n",
       "    <tr style=\"text-align: right;\">\n",
       "      <th></th>\n",
       "      <th>rating</th>\n",
       "      <th>userID</th>\n",
       "      <th>productID</th>\n",
       "    </tr>\n",
       "  </thead>\n",
       "  <tbody>\n",
       "    <tr>\n",
       "      <th>0</th>\n",
       "      <td>5.0</td>\n",
       "      <td>A1QVBUH9E1V6I8</td>\n",
       "      <td>4639725183</td>\n",
       "    </tr>\n",
       "    <tr>\n",
       "      <th>1</th>\n",
       "      <td>5.0</td>\n",
       "      <td>A3GEOILWLK86XM</td>\n",
       "      <td>4639725183</td>\n",
       "    </tr>\n",
       "    <tr>\n",
       "      <th>2</th>\n",
       "      <td>5.0</td>\n",
       "      <td>A32RD6L701BIGP</td>\n",
       "      <td>4639725183</td>\n",
       "    </tr>\n",
       "    <tr>\n",
       "      <th>3</th>\n",
       "      <td>5.0</td>\n",
       "      <td>A2UY1O1FBGKIE6</td>\n",
       "      <td>4639725183</td>\n",
       "    </tr>\n",
       "    <tr>\n",
       "      <th>4</th>\n",
       "      <td>5.0</td>\n",
       "      <td>A3QHVBQYDV7Z6U</td>\n",
       "      <td>4639725183</td>\n",
       "    </tr>\n",
       "    <tr>\n",
       "      <th>...</th>\n",
       "      <td>...</td>\n",
       "      <td>...</td>\n",
       "      <td>...</td>\n",
       "    </tr>\n",
       "    <tr>\n",
       "      <th>1308351</th>\n",
       "      <td>5.0</td>\n",
       "      <td>A223YRQH2Z5T1D</td>\n",
       "      <td>B01HJF6FRA</td>\n",
       "    </tr>\n",
       "    <tr>\n",
       "      <th>1308352</th>\n",
       "      <td>5.0</td>\n",
       "      <td>A38GDA4TB9EILT</td>\n",
       "      <td>B01HJF6FRA</td>\n",
       "    </tr>\n",
       "    <tr>\n",
       "      <th>1308353</th>\n",
       "      <td>5.0</td>\n",
       "      <td>A2025PN7HDC5BO</td>\n",
       "      <td>B01HJF6FRA</td>\n",
       "    </tr>\n",
       "    <tr>\n",
       "      <th>1308354</th>\n",
       "      <td>5.0</td>\n",
       "      <td>A1NY7XWC7EPQOA</td>\n",
       "      <td>B01HJF6FRA</td>\n",
       "    </tr>\n",
       "    <tr>\n",
       "      <th>1308355</th>\n",
       "      <td>3.0</td>\n",
       "      <td>A1P0X9E6F99J4T</td>\n",
       "      <td>B01HJF6FRA</td>\n",
       "    </tr>\n",
       "  </tbody>\n",
       "</table>\n",
       "<p>1308356 rows × 3 columns</p>\n",
       "</div>"
      ],
      "text/plain": [
       "         rating          userID   productID\n",
       "0           5.0  A1QVBUH9E1V6I8  4639725183\n",
       "1           5.0  A3GEOILWLK86XM  4639725183\n",
       "2           5.0  A32RD6L701BIGP  4639725183\n",
       "3           5.0  A2UY1O1FBGKIE6  4639725183\n",
       "4           5.0  A3QHVBQYDV7Z6U  4639725183\n",
       "...         ...             ...         ...\n",
       "1308351     5.0  A223YRQH2Z5T1D  B01HJF6FRA\n",
       "1308352     5.0  A38GDA4TB9EILT  B01HJF6FRA\n",
       "1308353     5.0  A2025PN7HDC5BO  B01HJF6FRA\n",
       "1308354     5.0  A1NY7XWC7EPQOA  B01HJF6FRA\n",
       "1308355     3.0  A1P0X9E6F99J4T  B01HJF6FRA\n",
       "\n",
       "[1308356 rows x 3 columns]"
      ]
     },
     "execution_count": 7,
     "metadata": {},
     "output_type": "execute_result"
    }
   ],
   "source": [
    "merged_df = pd.merge(reviews, ratings, how='inner')\n",
    "merged_df"
   ]
  },
  {
   "cell_type": "code",
   "execution_count": 8,
   "id": "12a609b5",
   "metadata": {},
   "outputs": [],
   "source": [
    "from surprise import Dataset\n",
    "from surprise import Reader"
   ]
  },
  {
   "cell_type": "code",
   "execution_count": 9,
   "id": "addbbe35",
   "metadata": {},
   "outputs": [],
   "source": [
    "reader = Reader(rating_scale=(1, 5))"
   ]
  },
  {
   "cell_type": "markdown",
   "id": "edc865ec",
   "metadata": {},
   "source": [
    "#### Create a user-item matrix: The dataset needs to be transformed into a user-item matrix, where each row represents a user and each column represents an item."
   ]
  },
  {
   "cell_type": "code",
   "execution_count": 10,
   "id": "7c0bdf48",
   "metadata": {},
   "outputs": [],
   "source": [
    "data = Dataset.load_from_df(merged_df[['userID', 'productID', 'rating']], reader)"
   ]
  },
  {
   "cell_type": "markdown",
   "id": "44f034dc",
   "metadata": {},
   "source": [
    "#### Splitting data into training and testing"
   ]
  },
  {
   "cell_type": "code",
   "execution_count": 11,
   "id": "c05a252b",
   "metadata": {},
   "outputs": [],
   "source": [
    "trainset, testset = train_test_split(data, test_size=0.2)"
   ]
  },
  {
   "cell_type": "markdown",
   "id": "417fd4a3",
   "metadata": {},
   "source": [
    "#### Train the model: We can use the Surprise library to train an SVD-based model. This involves setting up a Reader object to specify the rating scale, loading the user-item matrix into a Dataset object, and training the SVD model using the fit() method."
   ]
  },
  {
   "cell_type": "code",
   "execution_count": 12,
   "id": "a90295f6",
   "metadata": {},
   "outputs": [],
   "source": [
    "model = SVD(biased='False')"
   ]
  },
  {
   "cell_type": "code",
   "execution_count": 13,
   "id": "6ae82fa0",
   "metadata": {},
   "outputs": [
    {
     "data": {
      "text/plain": [
       "<surprise.prediction_algorithms.matrix_factorization.SVD at 0x231c9e651d0>"
      ]
     },
     "execution_count": 13,
     "metadata": {},
     "output_type": "execute_result"
    }
   ],
   "source": [
    "model.fit(trainset)"
   ]
  },
  {
   "cell_type": "markdown",
   "id": "c8c835a2",
   "metadata": {},
   "source": [
    "Generate recommendations: Once the model is trained, we can use it to generate recommendations for a given user. We can do this by using the predict() method to get predicted ratings for all items, sorting them by the predicted rating, and returning the top k items.\n"
   ]
  },
  {
   "cell_type": "code",
   "execution_count": 14,
   "id": "74011e3f",
   "metadata": {},
   "outputs": [],
   "source": [
    "predictions = model.test(testset)"
   ]
  },
  {
   "cell_type": "code",
   "execution_count": 15,
   "id": "2c142965",
   "metadata": {},
   "outputs": [
    {
     "data": {
      "text/plain": [
       "list"
      ]
     },
     "execution_count": 15,
     "metadata": {},
     "output_type": "execute_result"
    }
   ],
   "source": [
    "type(predictions)"
   ]
  },
  {
   "cell_type": "code",
   "execution_count": 16,
   "id": "4627867f",
   "metadata": {},
   "outputs": [
    {
     "data": {
      "text/plain": [
       "Prediction(uid='A39L1MXQ1E8R2P', iid='B00LYKG5AO', r_ui=5.0, est=4.757539775043325, details={'was_impossible': False})"
      ]
     },
     "execution_count": 16,
     "metadata": {},
     "output_type": "execute_result"
    }
   ],
   "source": [
    "predictions[0]"
   ]
  },
  {
   "cell_type": "code",
   "execution_count": 17,
   "id": "267d0f4b",
   "metadata": {},
   "outputs": [
    {
     "data": {
      "text/plain": [
       "'B00LYKG5AO'"
      ]
     },
     "execution_count": 17,
     "metadata": {},
     "output_type": "execute_result"
    }
   ],
   "source": [
    "predictions[0][1]"
   ]
  },
  {
   "cell_type": "markdown",
   "id": "76b6da0f",
   "metadata": {},
   "source": [
    "### Recommendation"
   ]
  },
  {
   "cell_type": "code",
   "execution_count": 18,
   "id": "72e4fe9d",
   "metadata": {},
   "outputs": [],
   "source": [
    "def recommend_product():\n",
    "    import random\n",
    "\n",
    "    # Select a user (you can replace this with any userID from your dataset)\n",
    "    userID = 'A397VK3Q5GVWGO'\n",
    "\n",
    "    # Get all unique product IDs\n",
    "    product_ids = data.df['productID'].unique()\n",
    "\n",
    "    random_product_ids = random.sample(list(product_ids), 10)\n",
    "\n",
    "    # Generate predictions for the selected user\n",
    "    predictions_new = [(productID, model.predict(userID, productID).est) for productID in random_product_ids]\n",
    "\n",
    "    # Sort the predictions based on the estimated ratings in descending order\n",
    "    #predictions.sort(key=lambda x: x[1], reverse=True)\n",
    "\n",
    "    # Print the predictions\n",
    "    for productID, rating in predictions_new:\n",
    "        print(f\"Predicted rating for product {productID}: {rating}\")"
   ]
  },
  {
   "cell_type": "code",
   "execution_count": 19,
   "id": "236d0440",
   "metadata": {},
   "outputs": [
    {
     "name": "stdout",
     "output_type": "stream",
     "text": [
      "Predicted rating for product B00I9E7S0Y: 4.178803882388904\n",
      "Predicted rating for product B005SSM64W: 3.8270882716987678\n",
      "Predicted rating for product B0084972ZA: 4.394481072376448\n",
      "Predicted rating for product B00FORQ0JY: 4.513346296649605\n",
      "Predicted rating for product B005TH72DM: 4.312989068994574\n",
      "Predicted rating for product B0012BUR8Q: 4.1071358614232665\n",
      "Predicted rating for product B008IYS1YW: 4.0374275145743095\n",
      "Predicted rating for product B0068VU48I: 4.4379078819972975\n",
      "Predicted rating for product B000QFRJSA: 4.40274257072507\n",
      "Predicted rating for product B005ECOBRM: 4.558919520411944\n"
     ]
    }
   ],
   "source": [
    "recommend_product()"
   ]
  },
  {
   "cell_type": "markdown",
   "id": "4ae5dd59",
   "metadata": {},
   "source": [
    "### Different Performance Measure\n",
    "#### Evaluate the model: To evaluate the accuracy of the model, we can use various measures such as RMSE, MAE"
   ]
  },
  {
   "cell_type": "markdown",
   "id": "71cc2215",
   "metadata": {},
   "source": [
    "#### RMSE"
   ]
  },
  {
   "cell_type": "code",
   "execution_count": 20,
   "id": "aca752de",
   "metadata": {},
   "outputs": [
    {
     "name": "stdout",
     "output_type": "stream",
     "text": [
      "RMSE: 0.8754\n"
     ]
    }
   ],
   "source": [
    "rmse = accuracy.rmse(predictions)"
   ]
  },
  {
   "cell_type": "code",
   "execution_count": 21,
   "id": "ac96bd16",
   "metadata": {},
   "outputs": [
    {
     "name": "stdout",
     "output_type": "stream",
     "text": [
      "MAE:  0.5651\n"
     ]
    }
   ],
   "source": [
    "mae = accuracy.mae(predictions)"
   ]
  },
  {
   "cell_type": "markdown",
   "id": "75a8b0d8",
   "metadata": {},
   "source": [
    "#### Compare RMSE value for different value of K(Recommendation)"
   ]
  },
  {
   "cell_type": "code",
   "execution_count": 22,
   "id": "ac1d06ea",
   "metadata": {},
   "outputs": [],
   "source": [
    "# Define the range of number of recommendations to try\n",
    "n_recommendations = [5, 10, 20, 30, 40, 50, 60, 70, 80, 90, 100]\n",
    "\n",
    "# Compute the accuracy metrics for different number of recommendations\n",
    "rmse_scores = []\n",
    "mae_scores = []\n",
    "for n in n_recommendations:\n",
    "    # Train the model on the training set\n",
    "    model.fit(trainset)\n",
    "    # Make predictions on the test set for n recommendations\n",
    "    predictions = model.test(testset[:n])\n",
    "    # Compute and append the RMSE and MAE scores\n",
    "    rmse_scores.append(accuracy.rmse(predictions, verbose=False))\n",
    "    mae_scores.append(accuracy.mae(predictions, verbose=False))"
   ]
  },
  {
   "cell_type": "code",
   "execution_count": 23,
   "id": "cb19e77d",
   "metadata": {},
   "outputs": [
    {
     "data": {
      "image/png": "[encoded data removed]",
      "text/plain": [
       "<Figure size 640x480 with 1 Axes>"
      ]
     },
     "metadata": {},
     "output_type": "display_data"
    }
   ],
   "source": [
    "# Plot the RMSE and MAE scores against the number of recommendations\n",
    "plt.plot(n_recommendations, rmse_scores, label='RMSE')\n",
    "plt.plot(n_recommendations, mae_scores, label='MAE')\n",
    "plt.title('Accuracy Metrics for Different Number of Recommendations')\n",
    "plt.xlabel('Number of Recommendations')\n",
    "plt.ylabel('Accuracy')\n",
    "plt.legend()\n",
    "plt.show()"
   ]
  },
  {
   "cell_type": "markdown",
   "id": "d8262ae5",
   "metadata": {},
   "source": [
    "         as number of 'k' recommendation increases Error also increases"
   ]
  },
  {
   "cell_type": "code",
   "execution_count": null,
   "id": "f2ea23e9",
   "metadata": {},
   "outputs": [],
   "source": []
  }
 ],
 "metadata": {
  "kernelspec": {
   "display_name": "Python 3 (ipykernel)",
   "language": "python",
   "name": "python3"
  },
  "language_info": {
   "codemirror_mode": {
    "name": "ipython",
    "version": 3
   },
   "file_extension": ".py",
   "mimetype": "text/x-python",
   "name": "python",
   "nbconvert_exporter": "python",
   "pygments_lexer": "ipython3",
   "version": "3.11.4"
  }
 },
 "nbformat": 4,
 "nbformat_minor": 5
}
